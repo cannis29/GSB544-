{
  "cells": [
    {
      "cell_type": "markdown",
      "metadata": {},
      "source": [
        "---\n",
        "title: \"Practice Activity 7.1: Cross-Validation and Tuning\"\n",
        "format: \n",
        "  html:\n",
        "    theme: lux\n",
        "---"
      ]
    },
    {
      "cell_type": "code",
      "execution_count": 3,
      "metadata": {
        "colab": {
          "base_uri": "https://localhost:8080/"
        },
        "id": "BfDIi7uWxpjn",
        "outputId": "6ac2545e-a274-4ff3-989e-5d2a7b4aaf36"
      },
      "outputs": [
        {
          "name": "stdout",
          "output_type": "stream",
          "text": [
            "Best Model: Pipeline(steps=[('preprocessing',\n",
            "                 ColumnTransformer(transformers=[('dummify',\n",
            "                                                  OneHotEncoder(sparse_output=False),\n",
            "                                                  ['Bldg Type']),\n",
            "                                                 ('polynomial',\n",
            "                                                  PolynomialFeatures(degree=3),\n",
            "                                                  ['Gr Liv Area',\n",
            "                                                   'TotRms AbvGrd'])])),\n",
            "                ('linear_regression', LinearRegression())])\n",
            "Best R-squared Score: 0.5410026448115971\n",
            "\n",
            "Cross-validated scores for each degree:\n",
            "    degrees      scores\n",
            "0        1    0.532882\n",
            "1        2    0.531259\n",
            "2        3    0.541003\n",
            "3        4    0.530984\n",
            "4        5    0.399898\n",
            "5        6   -1.410547\n",
            "6        7  -20.793747\n",
            "7        8 -132.190776\n",
            "8        9 -568.868517\n"
          ]
        }
      ],
      "source": [
        "# Import necessary libraries\n",
        "import pandas as pd\n",
        "import numpy as np\n",
        "from sklearn.pipeline import Pipeline\n",
        "from sklearn.preprocessing import StandardScaler, OneHotEncoder, PolynomialFeatures\n",
        "from sklearn.linear_model import LinearRegression\n",
        "from sklearn.model_selection import GridSearchCV\n",
        "from sklearn.compose import ColumnTransformer\n",
        "\n",
        "# Load the dataset (assuming the CSV file path is \"/content/AmesHousing (1).csv\")\n",
        "ames = pd.read_csv(\"/content/AmesHousing (1).csv\")\n",
        "\n",
        "# Define features and target\n",
        "X = ames[['Gr Liv Area', 'TotRms AbvGrd', 'Bldg Type']]\n",
        "y = ames['SalePrice']\n",
        "\n",
        "# Column transformer setup\n",
        "ct_poly = ColumnTransformer(\n",
        "    transformers=[\n",
        "        (\"dummify\", OneHotEncoder(sparse_output=False), [\"Bldg Type\"]),\n",
        "        (\"polynomial\", PolynomialFeatures(), [\"Gr Liv Area\", \"TotRms AbvGrd\"])\n",
        "    ],\n",
        "    remainder=\"drop\"\n",
        ")\n",
        "\n",
        "# Pipeline with PolynomialFeatures and LinearRegression\n",
        "lr_pipeline_poly = Pipeline([\n",
        "    (\"preprocessing\", ct_poly),\n",
        "    (\"linear_regression\", LinearRegression())\n",
        "]).set_output(transform=\"pandas\")\n",
        "\n",
        "# Degree range for tuning\n",
        "degrees = {'preprocessing__polynomial__degree': np.arange(1, 10)}  # Degrees 1 to 9\n",
        "\n",
        "# Grid search with cross-validation\n",
        "gscv = GridSearchCV(lr_pipeline_poly, degrees, cv=5, scoring='r2', n_jobs=-1)\n",
        "gscv_fitted = gscv.fit(X, y)\n",
        "\n",
        "# Extract cross-validated metrics\n",
        "cv_results = pd.DataFrame({\n",
        "    \"degrees\": np.arange(1, 10),\n",
        "    \"scores\": gscv_fitted.cv_results_['mean_test_score']\n",
        "})\n",
        "\n",
        "# Display the best model and corresponding cross-validated score\n",
        "best_model = gscv_fitted.best_estimator_\n",
        "best_score = gscv_fitted.best_score_\n",
        "\n",
        "print(\"Best Model:\", best_model)\n",
        "print(\"Best R-squared Score:\", best_score)\n",
        "print(\"\\nCross-validated scores for each degree:\\n\", cv_results)\n"
      ]
    },
    {
      "cell_type": "markdown",
      "metadata": {
        "id": "2H9NebKZMdel"
      },
      "source": [
        "# Question 1\n",
        "The best model found by GridSearchCV is a polynomial regression model with a degree of 3 applied to Gr Liv Area and TotRms AbvGrd. The model includes:\n",
        "\n",
        "- One-hot encoding for Bldg Type.\n",
        "- Standard scaling for Gr Liv Area and TotRms AbvGrd.\n",
        "- A polynomial transformation with a degree of 3.\n",
        "\n",
        "# Question 2\n",
        "Trying all model options can take a lot of time and processing power, especially with large datasets and high polynomial degrees, and it risks overfitting, which means the model may not work well on new data. To simplify, we could start with a smaller range of degrees (like 1 to 4) and only add complexity if needed. Another approach is using RandomizedSearchCV to sample from the range instead of testing every option, saving time while still finding good results."
      ]
    }
  ],
  "metadata": {
    "colab": {
      "provenance": []
    },
    "kernelspec": {
      "display_name": "Python 3",
      "name": "python3"
    },
    "language_info": {
      "name": "python"
    }
  },
  "nbformat": 4,
  "nbformat_minor": 0
}
